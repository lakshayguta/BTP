{
 "cells": [
  {
   "cell_type": "code",
   "execution_count": 6,
   "id": "alive-hungary",
   "metadata": {},
   "outputs": [
    {
     "name": "stdout",
     "output_type": "stream",
     "text": [
      "latent node length: 342\n",
      "latent edge length: 1512\n",
      "start test generate model of iteration 73\n",
      "\t top 3 props [0.9420129567540078, 0.9431518735336837, 0.9473513896720859]\n",
      "\t mean props 0.587806799218237 std props 0.1570655135227912\n"
     ]
    }
   ],
   "source": [
    "import torch\n",
    "import numpy as np\n",
    "from model import GraphFlowModel, GraphFlowModel_rl\n",
    "from config.prop_optim_config import conf\n",
    "from prop_optim import PropOptim\n",
    "\n",
    "from rdkit import RDLogger\n",
    "RDLogger.DisableLog('rdApp.*')\n",
    "import os\n",
    "os.environ['CUDA_VISIBLE_DEVICES'] = '1'\n",
    "\n",
    "out_path = 'optim/'\n",
    "if not os.path.isdir(out_path):\n",
    "    os.mkdir(out_path)\n",
    "runner = PropOptim(conf, out_path)\n",
    "runner.test_generate_pthnum(num=73)"
   ]
  },
  {
   "cell_type": "code",
   "execution_count": null,
   "id": "departmental-casting",
   "metadata": {},
   "outputs": [],
   "source": []
  }
 ],
 "metadata": {
  "kernelspec": {
   "display_name": "Python 3",
   "language": "python",
   "name": "python3"
  },
  "language_info": {
   "codemirror_mode": {
    "name": "ipython",
    "version": 3
   },
   "file_extension": ".py",
   "mimetype": "text/x-python",
   "name": "python",
   "nbconvert_exporter": "python",
   "pygments_lexer": "ipython3",
   "version": "3.7.9"
  }
 },
 "nbformat": 4,
 "nbformat_minor": 5
}
